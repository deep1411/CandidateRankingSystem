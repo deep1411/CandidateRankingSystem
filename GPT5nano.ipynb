{
 "cells": [
  {
   "cell_type": "markdown",
   "id": "7ef29015",
   "metadata": {},
   "source": [
    "# GPT5nano – Clean Annotated Notebook\n",
    "*Last updated: October 28, 2025*\n",
    "\n",
    "This notebook has been organized for clarity and presentation. Section headers explain the purpose of each step so a reviewer can quickly follow the workflow and rationale.\n",
    "\n",
    "**What’s included:**\n",
    "- Clear section headers injected before relevant code blocks\n",
    "- Lightweight explanations to guide readers\n",
    "- A tidy footer with recommended next steps\n",
    "\n",
    "---\n"
   ]
  },
  {
   "cell_type": "markdown",
   "id": "d387b2c5",
   "metadata": {},
   "source": [
    "<details>\n",
    "<summary><strong>Table of Contents</strong></summary>\n",
    "\n",
    "1. Setup & Imports  \n",
    "2. Configuration & Constants  \n",
    "3. Data Loading  \n",
    "4. Exploratory Data Analysis (EDA)  \n",
    "5. Cleaning & Preprocessing  \n",
    "6. Feature Engineering  \n",
    "7. Train/Validation Split & Cross-Validation  \n",
    "8. Modeling  \n",
    "9. Evaluation & Metrics  \n",
    "10. Explainability & Feature Importance  \n",
    "11. Deployment / Inference  \n",
    "12. Persistence & Export  \n",
    "\n",
    "</details>\n"
   ]
  },
  {
   "cell_type": "markdown",
   "id": "56cfca99",
   "metadata": {},
   "source": [
    "### Setup & Imports\n",
    "Import core libraries and frameworks. Group imports and remove unused ones.\n"
   ]
  },
  {
   "cell_type": "code",
   "execution_count": 6,
   "id": "0fb68b84-6e58-4d04-9390-9114226db832",
   "metadata": {},
   "outputs": [
    {
     "name": "stdout",
     "output_type": "stream",
     "text": [
      "Hi there! 👋 How can I help today? I can explain concepts, answer questions, help with writing or editing, brainstorm ideas, debug code, plan a project, translate, or just chat. Tell me what you’re working on or ask me something specific.\n"
     ]
    }
   ],
   "source": [
    "from openai import OpenAI\n",
    "\n",
    "client = OpenAI(\n",
    "  api_key=\"\"\n",
    ")\n",
    "\n",
    "response = client.responses.create(\n",
    "  model=\"gpt-5-nano-2025-08-07\",\n",
    "  input=\"Hello\",\n",
    "  store=True,\n",
    ")\n",
    "\n",
    "print(response.output_text);"
   ]
  },
  {
   "cell_type": "markdown",
   "id": "34f1f8ba",
   "metadata": {},
   "source": [
    "### Data Loading\n",
    "Load datasets or artifacts and validate shapes/schemas.\n"
   ]
  },
  {
   "cell_type": "code",
   "execution_count": 22,
   "id": "167c1512-458f-4b21-bc15-d2e320c4ad50",
   "metadata": {},
   "outputs": [],
   "source": [
    "import re, json, time  \n",
    "import numpy as np\n",
    "import pandas as pd\n",
    "from pathlib import Path\n",
    "\n",
    "path = r'C:\\Users\\dbal\\anaconda_projects\\PotentialTalentsNLP\\potentialtalents.csv'\n",
    "df = pd.read_csv(path)"
   ]
  },
  {
   "cell_type": "code",
   "execution_count": 33,
   "id": "4b505f5c-f5df-4b75-971e-71526c8ebfab",
   "metadata": {},
   "outputs": [],
   "source": [
    "search_term = \"Aspiring Human Resources Specialist\"\n",
    "\n",
    "# Get embedding for the search term\n",
    "search_embedding = client.embeddings.create(\n",
    "    model=\"text-embedding-3-large\",\n",
    "    input=[search_term]\n",
    ").data[0].embedding\n",
    "\n",
    "search_embedding = np.array(search_embedding)  # Convert to NumPy array for easier computation"
   ]
  },
  {
   "cell_type": "code",
   "execution_count": 32,
   "id": "d72b7767-1ce3-472e-9947-5145d2ec46f4",
   "metadata": {},
   "outputs": [],
   "source": [
    "def get_embeddings(texts, model=\"text-embedding-3-large\"):\n",
    "    response = client.embeddings.create(model=model, input=texts)\n",
    "    return [np.array(item.embedding) for item in response.data]\n",
    "\n",
    "# Get embeddings for all job titles\n",
    "job_titles = df['job_title'].tolist()\n",
    "title_embeddings = get_embeddings(job_titles)\n",
    "\n",
    "# Add embeddings to the DataFrame\n",
    "df['title_embedding'] = title_embeddings"
   ]
  },
  {
   "cell_type": "code",
   "execution_count": 27,
   "id": "07bf08ca-4a38-4d4b-8ea4-6fbddefeb87e",
   "metadata": {},
   "outputs": [],
   "source": [
    "from numpy.linalg import norm\n",
    "\n",
    "def cosine_similarity(vec1, vec2):\n",
    "    return np.dot(vec1, vec2) / (norm(vec1) * norm(vec2))"
   ]
  },
  {
   "cell_type": "code",
   "execution_count": 28,
   "id": "ae60cc41-8436-4ace-b61c-09a4214be93f",
   "metadata": {},
   "outputs": [],
   "source": [
    "# Compute similarity scores\n",
    "df['relevance_score'] = df['title_embedding'].apply(lambda emb: cosine_similarity(emb, search_embedding))\n",
    "\n",
    "# Optional: Normalize scores to 0-100 for easier interpretation\n",
    "df['relevance_score'] = 100 * (df['relevance_score'] - df['relevance_score'].min()) / (df['relevance_score'].max() - df['relevance_score'].min())"
   ]
  },
  {
   "cell_type": "code",
   "execution_count": 29,
   "id": "32946220-9189-469e-b596-030f5f01e908",
   "metadata": {},
   "outputs": [
    {
     "name": "stdout",
     "output_type": "stream",
     "text": [
      "   id                              job_title  \\\n",
      "0   6    Aspiring Human Resources Specialist   \n",
      "1  36    Aspiring Human Resources Specialist   \n",
      "2  49    Aspiring Human Resources Specialist   \n",
      "3  24    Aspiring Human Resources Specialist   \n",
      "4  60    Aspiring Human Resources Specialist   \n",
      "5  58  Aspiring Human Resources Professional   \n",
      "6  46  Aspiring Human Resources Professional   \n",
      "7  33  Aspiring Human Resources Professional   \n",
      "8   3  Aspiring Human Resources Professional   \n",
      "9  17  Aspiring Human Resources Professional   \n",
      "\n",
      "                              location connection  relevance_score  rank  \n",
      "0           Greater New York City Area          1       100.000000     1  \n",
      "1           Greater New York City Area          1       100.000000     2  \n",
      "2           Greater New York City Area          1        99.999988     3  \n",
      "3           Greater New York City Area          1        99.999980     4  \n",
      "4           Greater New York City Area          1        99.999980     5  \n",
      "5  Raleigh-Durham, North Carolina Area         44        85.052501     6  \n",
      "6  Raleigh-Durham, North Carolina Area         44        85.052501     7  \n",
      "7  Raleigh-Durham, North Carolina Area         44        85.052501     8  \n",
      "8  Raleigh-Durham, North Carolina Area         44        85.049158     9  \n",
      "9  Raleigh-Durham, North Carolina Area         44        85.043177    10  \n"
     ]
    }
   ],
   "source": [
    "# Rank by relevance\n",
    "ranked_df = df.sort_values(by='relevance_score', ascending=False).reset_index(drop=True)\n",
    "\n",
    "# Add rank column\n",
    "ranked_df['rank'] = ranked_df.index + 1\n",
    "\n",
    "# Preview top 10\n",
    "print(ranked_df[['id', 'job_title', 'location', 'connection', 'relevance_score', 'rank']].head(10))"
   ]
  },
  {
   "cell_type": "code",
   "execution_count": 49,
   "id": "629b8341-609f-41e2-b940-2435fe09df5c",
   "metadata": {},
   "outputs": [
    {
     "name": "stdout",
     "output_type": "stream",
     "text": [
      "Predicted HR-Based Candidates:\n",
      "    id                                          job_title  \\\n",
      "0    6                Aspiring Human Resources Specialist   \n",
      "1   36                Aspiring Human Resources Specialist   \n",
      "2   49                Aspiring Human Resources Specialist   \n",
      "3   24                Aspiring Human Resources Specialist   \n",
      "4   60                Aspiring Human Resources Specialist   \n",
      "..  ..                                                ...   \n",
      "94  16  Native English Teacher at EPIK (English Progra...   \n",
      "95  20  Native English Teacher at EPIK (English Progra...   \n",
      "96  91       Lead Official at Western Illinois University   \n",
      "97  85  RRP Brand Portfolio Executive at JTI (Japan To...   \n",
      "98  87  Bachelor of Science in Biology from Victoria U...   \n",
      "\n",
      "                      location connection  relevance_score  \n",
      "0   Greater New York City Area          1       100.000000  \n",
      "1   Greater New York City Area          1       100.000000  \n",
      "2   Greater New York City Area          1        99.999988  \n",
      "3   Greater New York City Area          1        99.999980  \n",
      "4   Greater New York City Area          1        99.999980  \n",
      "..                         ...        ...              ...  \n",
      "94                      Kanada      500+         11.704749  \n",
      "95                      Kanada      500+         11.704749  \n",
      "96        Greater Chicago Area         39        11.679266  \n",
      "97   Greater Philadelphia Area      500+          7.918573  \n",
      "98         Baltimore, Maryland         40         5.013902  \n",
      "\n",
      "[99 rows x 5 columns]\n"
     ]
    }
   ],
   "source": [
    "# Set a threshold (adjust based on your score range)\n",
    "threshold = 5\n",
    "hr_candidates = ranked_df[ranked_df['relevance_score'] > threshold]\n",
    "\n",
    "# Print predicted HR candidates\n",
    "print(\"Predicted HR-Based Candidates:\")\n",
    "print(hr_candidates[['id', 'job_title', 'location', 'connection', 'relevance_score']])\n",
    "\n",
    "# Save to new CSV if needed\n",
    "hr_candidates.to_csv('hr_candidates_ranked.csv', index=False)"
   ]
  },
  {
   "cell_type": "code",
   "execution_count": 42,
   "id": "d29ce300-29a7-42da-9346-9e35fa494442",
   "metadata": {},
   "outputs": [
    {
     "name": "stdout",
     "output_type": "stream",
     "text": [
      "|   Rank |   ID | Job Title                                                                                                             | Location                            | Connections   |   Relevance Score |\n",
      "|-------:|-----:|:----------------------------------------------------------------------------------------------------------------------|:------------------------------------|:--------------|------------------:|\n",
      "|      1 |    6 | Aspiring Human Resources Specialist                                                                                   | Greater New York City Area          | 1             |            100    |\n",
      "|      2 |   58 | Aspiring Human Resources Professional                                                                                 | Raleigh-Durham, North Carolina Area | 44            |             85.05 |\n",
      "|      3 |   97 | Aspiring Human Resources Professional                                                                                 | Kokomo, Indiana Area                | 71            |             85.04 |\n",
      "|      4 |   73 | Aspiring Human Resources Manager, seeking internship in Human Resources.                                              | Houston, Texas Area                 | 7             |             69.15 |\n",
      "|      5 |   72 | Business Management Major and Aspiring Human Resources Manager                                                        | Monroe, Louisiana Area              | 5             |             69.04 |\n",
      "|      6 |   27 | Aspiring Human Resources Management student seeking an internship                                                     | Houston, Texas Area                 | 500+          |             68.05 |\n",
      "|      7 |   82 | Aspiring Human Resources Professional | An energetic and Team-Focused Leader                                          | Austin, Texas Area                  | 174           |             67.44 |\n",
      "|      8 |   76 | Aspiring Human Resources Professional | Passionate about helping to create an inclusive and engaging work environment | New York, New York                  | 212           |             65.57 |\n",
      "|      9 |   39 | Student at Humber College and Aspiring Human Resources Generalist                                                     | Kanada                              | 61            |             64.82 |\n",
      "|     10 |   99 | Seeking Human Resources Position                                                                                      | Las Vegas, Nevada Area              | 48            |             62.92 |\n",
      "|     11 |   61 | HR Senior Specialist                                                                                                  | San Francisco Bay Area              | 500+          |             62.74 |\n",
      "|     12 |   28 | Seeking Human Resources Opportunities                                                                                 | Chicago, Illinois                   | 390           |             61.89 |\n",
      "|     13 |   79 | Liberal Arts Major. Aspiring Human Resources Analyst.                                                                 | Baton Rouge, Louisiana Area         | 7             |             61.04 |\n",
      "|     14 |  100 | Aspiring Human Resources Manager | Graduating May 2020 | Seeking an Entry-Level Human Resources Position in St. Louis | Cape Girardeau, Missouri            | 103           |             60.93 |\n",
      "|     15 |   74 | Human Resources Professional                                                                                          | Greater Boston Area                 | 16            |             60.58 |\n",
      "|     16 |   66 | Experienced Retail Manager and aspiring Human Resources Professional                                                  | Austin, Texas Area                  | 57            |             60.44 |\n",
      "|     17 |   10 | Seeking Human Resources HRIS and Generalist Positions                                                                 | Greater Philadelphia Area           | 500+          |             59.67 |\n",
      "|     18 |   15 | 2019 C.T. Bauer College of Business Graduate (Magna Cum Laude) and aspiring Human Resources professional              | Houston, Texas                      | 85            |             55.16 |\n",
      "|     19 |   88 | Human Resources Management Major                                                                                      | Milpitas, California                | 18            |             52.12 |\n",
      "|     20 |   67 | Human Resources, Staffing and Recruiting Professional                                                                 | Jackson, Mississippi Area           | 500+          |             51.83 |\n"
     ]
    }
   ],
   "source": [
    "df_unique = hr_candidates.sort_values('relevance_score', ascending=False).drop_duplicates(subset=['job_title', 'location'], keep='first').reset_index(drop=True)\n",
    "df_unique['rank'] = df_unique.index + 1\n",
    "\n",
    "# Round relevance_score for cleaner display\n",
    "df_unique['relevance_score'] = df_unique['relevance_score'].round(2)\n",
    "\n",
    "#print(df_unique)\n",
    "\n",
    "df_display = df_unique[['rank', 'id', 'job_title', 'location', 'connection', 'relevance_score']]\n",
    "df_display.columns = ['Rank', 'ID', 'Job Title', 'Location', 'Connections', 'Relevance Score']\n",
    "\n",
    "# Generate Markdown table\n",
    "markdown_table = df_display.to_markdown(index=False, tablefmt='pipe', stralign='left')\n",
    "\n",
    "# Print and save the table\n",
    "print(markdown_table)\n",
    "with open('ranked_candidates.md', 'w') as f:\n",
    "    f.write(markdown_table)"
   ]
  },
  {
   "cell_type": "markdown",
   "id": "ff9a985f",
   "metadata": {},
   "source": [
    "---\n",
    "\n",
    "## Next Steps\n",
    "\n",
    "- Add a short **Experiment Config** cell that prints model/version, data snapshot, and seed.\n",
    "- Include **error analysis** (top FP/FN or low‑confidence cases) where relevant.\n",
    "- Provide a minimal **inference demo** with input/output schemas.\n",
    "- Export a final **results summary** for easy sharing (tables/plots).\n"
   ]
  }
 ],
 "metadata": {
  "kernelspec": {
   "display_name": "Python 3 (ipykernel)",
   "language": "python",
   "name": "python3"
  },
  "language_info": {
   "codemirror_mode": {
    "name": "ipython",
    "version": 3
   },
   "file_extension": ".py",
   "mimetype": "text/x-python",
   "name": "python",
   "nbconvert_exporter": "python",
   "pygments_lexer": "ipython3",
   "version": "3.10.18"
  }
 },
 "nbformat": 4,
 "nbformat_minor": 5
}
